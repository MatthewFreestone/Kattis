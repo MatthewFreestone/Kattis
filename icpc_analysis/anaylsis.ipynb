{
 "cells": [
  {
   "cell_type": "code",
   "execution_count": 1,
   "metadata": {},
   "outputs": [
    {
     "name": "stdout",
     "output_type": "stream",
     "text": [
      "27\n"
     ]
    }
   ],
   "source": [
    "import requests\n",
    "from bs4 import BeautifulSoup"
   ]
  },
  {
   "cell_type": "code",
   "execution_count": 35,
   "metadata": {},
   "outputs": [],
   "source": [
    "r = requests.get('https://open.kattis.com/problem-sources/2022%20ICPC%20North%20America%20Regional%20Programming%20Contests%20%28February%2025%2C%202023%29')\n",
    "soup = BeautifulSoup(r.text, 'html.parser')"
   ]
  },
  {
   "cell_type": "code",
   "execution_count": 36,
   "metadata": {},
   "outputs": [],
   "source": [
    "def format_problem(problem):\n",
    "    return {\n",
    "        'name': problem[0].find('a').text,\n",
    "        'link': problem[0].find('a').get('href'),\n",
    "        'difficulty': problem[6].find('span').text,\n",
    "    }"
   ]
  },
  {
   "cell_type": "code",
   "execution_count": 37,
   "metadata": {},
   "outputs": [
    {
     "name": "stdout",
     "output_type": "stream",
     "text": [
      "27\n",
      "{'name': 'Advertising ICPC', 'link': '/problems/advertisingicpc', 'difficulty': '9.6'}\n"
     ]
    }
   ],
   "source": [
    "rows = soup.find_all('tr')\n",
    "print(len(rows))\n",
    "raw_problems = rows[1:]\n",
    "problems = [problem.find_all('td') for problem in raw_problems]\n",
    "print(format_problem(problems[0]))\n",
    "# print(problems[1][0].find('a').text, f\"{problems[1][4].text}.{problems[1][5].text}\")"
   ]
  },
  {
   "cell_type": "code",
   "execution_count": 41,
   "metadata": {},
   "outputs": [
    {
     "name": "stdout",
     "output_type": "stream",
     "text": [
      "{'name': 'Advertising ICPC', 'link': '/problems/advertisingicpc', 'difficulty': '9.6'}\n",
      "{'name': 'Alchemy', 'link': '/problems/alchemy2', 'difficulty': '9.2'}\n",
      "{'name': 'Blueberry Waffle', 'link': '/problems/blueberrywaffle', 'difficulty': '1.3'}\n",
      "{'name': 'Bog of Eternal Stench', 'link': '/problems/bogofeternalstench', 'difficulty': '9.1'}\n",
      "{'name': 'Branch Manager', 'link': '/problems/branchmanager', 'difficulty': '8.9'}\n",
      "{'name': 'Champernowne Count', 'link': '/problems/champernownecount', 'difficulty': '6.9'}\n",
      "{'name': 'Chocolate Chip Fabrication', 'link': '/problems/chocolatechipfabrication', 'difficulty': '7.5'}\n",
      "{'name': 'Color Tubes', 'link': '/problems/colortubes', 'difficulty': '9.5'}\n",
      "{'name': 'Counting Satellites', 'link': '/problems/countingsatellites', 'difficulty': '8.3'}\n",
      "{'name': 'Creative Accounting', 'link': '/problems/creativeaccounting', 'difficulty': '7.2'}\n",
      "{'name': 'Digits of Unity', 'link': '/problems/digitsofunity', 'difficulty': '7.3'}\n",
      "{'name': 'Eroding Pillars', 'link': '/problems/erodingpillars', 'difficulty': '7.5'}\n",
      "{'name': 'Everything Is A Nail', 'link': '/problems/everythingisanail', 'difficulty': '8.7'}\n",
      "{'name': 'Exponent Exchange', 'link': '/problems/exponentexchange', 'difficulty': '9.0'}\n",
      "{'name': 'Fading Wind', 'link': '/problems/fadingwind', 'difficulty': '1.3'}\n",
      "{'name': 'Family Visits', 'link': '/problems/familyvisits', 'difficulty': '8.7'}\n",
      "{'name': 'Food Processor', 'link': '/problems/foodprocessor', 'difficulty': '9.0'}\n",
      "{'name': 'Hunt the Wumpus', 'link': '/problems/huntthewumpus', 'difficulty': '4.5'}\n",
      "{'name': 'I Could Have Won', 'link': '/problems/icouldhavewon', 'difficulty': '4.2'}\n",
      "{'name': 'Lone Knight', 'link': '/problems/loneknight', 'difficulty': '8.0'}\n",
      "{'name': 'Repetitive Song', 'link': '/problems/repetitivesong', 'difficulty': '4.4'}\n",
      "{'name': 'Restaurant Opening', 'link': '/problems/restaurantopening', 'difficulty': '2.6'}\n",
      "{'name': 'Streets Ahead', 'link': '/problems/streetsahead', 'difficulty': '2.1'}\n",
      "{'name': 'Sun and Moon', 'link': '/problems/sunandmoon', 'difficulty': '1.5'}\n",
      "{'name': 'Three Dice', 'link': '/problems/threedice', 'difficulty': '7.9'}\n",
      "{'name': 'Triangle Containment', 'link': '/problems/trianglecontainment', 'difficulty': '9.3'}\n"
     ]
    }
   ],
   "source": [
    "formatted_problems = [format_problem(problem) for problem in problems]\n",
    "print(*formatted_problems, sep='\\n')"
   ]
  },
  {
   "cell_type": "code",
   "execution_count": 39,
   "metadata": {},
   "outputs": [
    {
     "name": "stdout",
     "output_type": "stream",
     "text": [
      "13\n"
     ]
    }
   ],
   "source": [
    "d1_problem = {\n",
    "    'Fading Wind',\n",
    "    'Creative Accounting',\n",
    "    'Chocolate Chip Fabrication',\n",
    "    'Counting Satellites',\n",
    "    'Exponent Exchange',\n",
    "    'Family Visits',\n",
    "    'Eroding Pillars',\n",
    "    'Triangle Containment',\n",
    "    'Color Tubes',\n",
    "    'Three Dice',\n",
    "    'Lone Knight',\n",
    "    'Branch Manager',\n",
    "    'Alchemy'\n",
    "}\n",
    "print(len(d1_problem))"
   ]
  },
  {
   "cell_type": "code",
   "execution_count": 42,
   "metadata": {},
   "outputs": [
    {
     "name": "stdout",
     "output_type": "stream",
     "text": [
      "13\n",
      "7.86923076923077\n"
     ]
    }
   ],
   "source": [
    "# analysis of d1 problems\n",
    "d1_problem = [problem for problem in formatted_problems if problem['name'] in d1_problem]\n",
    "print(len(d1_problem))\n",
    "print(sum([float(problem['difficulty']) for problem in d1_problem]) / len(d1_problem))\n"
   ]
  },
  {
   "cell_type": "code",
   "execution_count": 8,
   "metadata": {},
   "outputs": [
    {
     "data": {
      "text/plain": [
       "<tr>\n",
       "<th class=\"table-item-autofit\" style=\"min-width:200px;\">\n",
       "<a href=\"?order=-name\">Name</a>\n",
       "<span class=\"sort-indicator\">\n",
       "<i class=\"fa fa-sort-down active-indicator\"></i>\n",
       "<i class=\"fa fa-sort sort-directions\"></i>\n",
       "</span>\n",
       "</th>\n",
       "<th class=\"table-item-autofit\">\n",
       "<a href=\"?order=%2Bfastest\">Fastest</a>\n",
       "<span class=\"sort-indicator\">\n",
       "<i class=\"fa fa-sort sort-directions\"></i>\n",
       "</span>\n",
       "</th>\n",
       "<th class=\"table-item-autofit\">\n",
       "<a href=\"?order=%2Bshortest\">Shortest</a>\n",
       "<span class=\"sort-indicator\">\n",
       "<i class=\"fa fa-sort sort-directions\"></i>\n",
       "</span>\n",
       "</th>\n",
       "<th class=\"table-item-autofit\">\n",
       "<a href=\"?order=-subtot\">Total</a>\n",
       "<span class=\"sort-indicator\">\n",
       "<i class=\"fa fa-sort sort-directions\"></i>\n",
       "</span>\n",
       "</th>\n",
       "<th class=\"table-item-autofit\">\n",
       "<a href=\"?order=-subacc\">Acc.</a>\n",
       "<span class=\"sort-indicator\">\n",
       "<i class=\"fa fa-sort sort-directions\"></i>\n",
       "</span>\n",
       "</th>\n",
       "<th class=\"table-item-autofit\">\n",
       "<a href=\"?order=-subrat\">Ratio</a>\n",
       "<span class=\"sort-indicator\">\n",
       "<i class=\"fa fa-sort sort-directions\"></i>\n",
       "</span>\n",
       "</th>\n",
       "<th class=\"table-item-autofit\" style=\"min-width:120px;\">\n",
       "<a href=\"?order=-difficulty_category\">Difficulty</a>\n",
       "<span class=\"sort-indicator\">\n",
       "<i class=\"fa fa-sort sort-directions\"></i>\n",
       "</span>\n",
       "</th>\n",
       "<th class=\"table-item-autofit\">\n",
       "<a href=\"?order=-languages\">Languages</a>\n",
       "<span class=\"sort-indicator\">\n",
       "<i class=\"fa fa-sort sort-directions\"></i>\n",
       "</span>\n",
       "</th>\n",
       "<th class=\"table-item-autofit\">\n",
       "</th>\n",
       "<th class=\"table-item-autofit\">\n",
       "</th>\n",
       "</tr>"
      ]
     },
     "execution_count": 8,
     "metadata": {},
     "output_type": "execute_result"
    }
   ],
   "source": [
    "problems[0]"
   ]
  },
  {
   "cell_type": "code",
   "execution_count": 7,
   "metadata": {},
   "outputs": [
    {
     "name": "stdout",
     "output_type": "stream",
     "text": [
      "[]\n"
     ]
    }
   ],
   "source": [
    "print(problems[0].find_all('td'))"
   ]
  }
 ],
 "metadata": {
  "kernelspec": {
   "display_name": "Python 3",
   "language": "python",
   "name": "python3"
  },
  "language_info": {
   "codemirror_mode": {
    "name": "ipython",
    "version": 3
   },
   "file_extension": ".py",
   "mimetype": "text/x-python",
   "name": "python",
   "nbconvert_exporter": "python",
   "pygments_lexer": "ipython3",
   "version": "3.10.2"
  },
  "orig_nbformat": 4,
  "vscode": {
   "interpreter": {
    "hash": "369f2c481f4da34e4445cda3fffd2e751bd1c4d706f27375911949ba6bb62e1c"
   }
  }
 },
 "nbformat": 4,
 "nbformat_minor": 2
}
